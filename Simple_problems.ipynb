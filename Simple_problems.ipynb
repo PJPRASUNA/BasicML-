{
  "nbformat": 4,
  "nbformat_minor": 0,
  "metadata": {
    "colab": {
      "name": "Simple problems.ipynb",
      "provenance": [],
      "authorship_tag": "ABX9TyPcagqLa7cAcH8JkKC/O7zt",
      "include_colab_link": true
    },
    "kernelspec": {
      "name": "python3",
      "display_name": "Python 3"
    },
    "language_info": {
      "name": "python"
    }
  },
  "cells": [
    {
      "cell_type": "markdown",
      "metadata": {
        "id": "view-in-github",
        "colab_type": "text"
      },
      "source": [
        "<a href=\"https://colab.research.google.com/github/PJPRASUNA/BasicML-/blob/main/Simple_problems.ipynb\" target=\"_parent\"><img src=\"https://colab.research.google.com/assets/colab-badge.svg\" alt=\"Open In Colab\"/></a>"
      ]
    },
    {
      "cell_type": "code",
      "metadata": {
        "id": "cAL9VmotoJaz"
      },
      "source": [
        ""
      ],
      "execution_count": null,
      "outputs": []
    },
    {
      "cell_type": "markdown",
      "metadata": {
        "id": "-l2hewgYobTf"
      },
      "source": [
        "1.program to find sum of two numbers \n"
      ]
    },
    {
      "cell_type": "code",
      "metadata": {
        "id": "9sA8BA6vpnOT"
      },
      "source": [
        "In [ ]:\n",
        "\n",
        "x=int(input(\"Enter the first number:\"))\n",
        "y=int(inpur(\"Enter the second number:\"))\n",
        "sum = x + y \n",
        "print(sum, \" is the sum of two given numbers.\")\n"
      ],
      "execution_count": null,
      "outputs": []
    },
    {
      "cell_type": "markdown",
      "metadata": {
        "id": "6WDvGbXsr1zM"
      },
      "source": [
        ""
      ]
    },
    {
      "cell_type": "markdown",
      "metadata": {
        "id": "ddG4Dcdor3hR"
      },
      "source": [
        ""
      ]
    },
    {
      "cell_type": "markdown",
      "metadata": {
        "id": "LikVnuH9r8CZ"
      },
      "source": [
        "2.program to find whether the given number is positive or negative \n",
        "\n"
      ]
    },
    {
      "cell_type": "code",
      "metadata": {
        "id": "ev45qUJ-tX8F"
      },
      "source": [
        "In [ ]:\n",
        " a=int(input(\"Enter any number:\"))\n",
        " if (a>0):\n",
        "   print(\"The given number is a positive number.\")\n",
        " elif (a<0) :\n",
        "   print(\"The given number is a negative number.\")\n",
        " else:\n",
        "   print(\"The given number is neither positive nor negative .\")  "
      ],
      "execution_count": null,
      "outputs": []
    },
    {
      "cell_type": "markdown",
      "metadata": {
        "id": "uHEL0Vejqm_M"
      },
      "source": [
        "3. program to find whether the given number is odd or even "
      ]
    },
    {
      "cell_type": "code",
      "metadata": {
        "id": "AhjXrvAmrEDz"
      },
      "source": [
        "In [ ]:\n",
        "\n",
        "n=int(input(\"Enter a number a to find:\"))\n",
        "if( n % 2 == 0):\n",
        "  print(n,\"is an even number.\")\n",
        "else:\n",
        "  print(n,\"is an odd number.\")  \n",
        "\n",
        "\n",
        "  \n"
      ],
      "execution_count": null,
      "outputs": []
    }
  ]
}